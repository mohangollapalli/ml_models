{
 "cells": [
  {
   "cell_type": "markdown",
   "metadata": {},
   "source": [
    "#### K-Means Algorithm Steps"
   ]
  },
  {
   "cell_type": "code",
   "execution_count": 1,
   "metadata": {},
   "outputs": [],
   "source": [
    "# 1. Choose the value for K and \n",
    "# 2. Initialize centroids - random initialization \n",
    "# 3. Compute distances of each point with all other centroids and Assign cluster label to all points.\n",
    "# 4. Recompute centroids of newly formed clusters. \n",
    "# 5. Repeat step 3 to 4 till we attain convergence (i.e., the centroids do not change much)"
   ]
  },
  {
   "cell_type": "markdown",
   "metadata": {},
   "source": [
    "> Import necessary libraries and modules"
   ]
  },
  {
   "cell_type": "code",
   "execution_count": 2,
   "metadata": {},
   "outputs": [
    {
     "data": {
      "text/plain": [
       "(150, 2)"
      ]
     },
     "execution_count": 2,
     "metadata": {},
     "output_type": "execute_result"
    }
   ],
   "source": [
    "import warnings\n",
    "warnings.filterwarnings(\"ignore\")\n",
    "\n",
    "import numpy as np \n",
    "import pandas as pd\n",
    "import matplotlib.pyplot as plt\n",
    "import seaborn as sns\n",
    "from sklearn.preprocessing import MinMaxScaler\n",
    "# Load the dataset\n",
    "\n",
    "data = sns.load_dataset(\"iris\")\n",
    "X = data[[\"sepal_length\", \"petal_length\"]]\n",
    "\n",
    "\n",
    "scaler = MinMaxScaler()\n",
    "X = scaler.fit_transform(X)\n",
    "X = pd.DataFrame(X, columns=[\"sepal_length\", \"petal_length\"])\n",
    "X.shape\n"
   ]
  },
  {
   "cell_type": "code",
   "execution_count": 3,
   "metadata": {},
   "outputs": [
    {
     "data": {
      "text/plain": [
       "(     sepal_length  petal_length\n",
       " 110      0.611111      0.694915\n",
       " 81       0.333333      0.457627\n",
       " 130      0.861111      0.864407,\n",
       " array([110,  81, 130]))"
      ]
     },
     "execution_count": 3,
     "metadata": {},
     "output_type": "execute_result"
    }
   ],
   "source": [
    "# Step1, Step 2: Choosing the value for K & initialize the centroids (random init)\n",
    "K = 3\n",
    "\n",
    "centroid_idxs = np.random.choice(X.index, K)\n",
    "centroids = X.iloc[centroid_idxs]\n",
    "centroids, centroid_idxs\n"
   ]
  },
  {
   "cell_type": "code",
   "execution_count": 4,
   "metadata": {},
   "outputs": [],
   "source": [
    "# Step 3: Assigning the cluster label to all datapoints \n",
    "\n",
    "def euclidean_distance(c, x): \n",
    "    distance = np.sqrt((c[0] - x[0])**2 + (c[1] - x[1])**2)\n",
    "    return distance"
   ]
  },
  {
   "cell_type": "code",
   "execution_count": 5,
   "metadata": {},
   "outputs": [
    {
     "name": "stdout",
     "output_type": "stream",
     "text": [
      "iter: 10\n"
     ]
    }
   ],
   "source": [
    "for iter in range(1000): \n",
    "    for row_idx, x in X.iterrows(): \n",
    "        x = tuple(x)\n",
    "\n",
    "        clust_val = 1\n",
    "        for idx, c in centroids.iterrows(): \n",
    "            c = tuple(c)\n",
    "            X.loc[row_idx, f\"cluster_dist_{clust_val}\"] = euclidean_distance(c, x)\n",
    "            clust_val = clust_val+1 \n",
    "        cluster_distance_cols = X.filter(regex='cluster_dist_').columns.tolist()\n",
    "        X[\"cluster_label\"] = X[cluster_distance_cols].apply(lambda row: row.index[np.argmin(row)], axis=1)\n",
    "\n",
    "    X[\"cluster_label\"] = X[\"cluster_label\"].map({\"cluster_dist_1\":1, \"cluster_dist_2\":2, \"cluster_dist_3\":3})\n",
    "    centroids_updated = X.groupby([\"cluster_label\"])[[\"sepal_length\", \"petal_length\"]].mean()\n",
    "    change = np.sum([(centroids_updated.iloc[i] - centroids.iloc[i]) for i in range(0,3)])\n",
    "    centroids = centroids_updated\n",
    "    if change == 0:\n",
    "        print (\"iter:\", iter)\n",
    "        break"
   ]
  },
  {
   "cell_type": "code",
   "execution_count": 9,
   "metadata": {},
   "outputs": [
    {
     "data": {
      "image/png": "[encoded data removed]",
      "text/plain": [
       "<Figure size 640x480 with 1 Axes>"
      ]
     },
     "metadata": {},
     "output_type": "display_data"
    }
   ],
   "source": [
    "colors = ['b', 'g', 'k'] \n",
    "\n",
    "fig, ax = plt.subplots()\n",
    "\n",
    "for cluster in range(K): \n",
    "    subset_data = X[X[\"cluster_label\"]==cluster+1]\n",
    "    ax.scatter(subset_data[\"sepal_length\"], subset_data[\"petal_length\"], s=10, color=colors[cluster])\n",
    "ax.scatter(centroids[\"sepal_length\"], centroids[\"petal_length\"], s=10, color='r')\n",
    "ax.set_xlabel(\"sepal_length\", fontsize=14)\n",
    "ax.set_ylabel(\"petal_length\", fontsize=14)\n",
    "plt.show()\n"
   ]
  }
 ],
 "metadata": {
  "kernelspec": {
   "display_name": "venv",
   "language": "python",
   "name": "python3"
  },
  "language_info": {
   "codemirror_mode": {
    "name": "ipython",
    "version": 3
   },
   "file_extension": ".py",
   "mimetype": "text/x-python",
   "name": "python",
   "nbconvert_exporter": "python",
   "pygments_lexer": "ipython3",
   "version": "3.12.2"
  }
 },
 "nbformat": 4,
 "nbformat_minor": 2
}
